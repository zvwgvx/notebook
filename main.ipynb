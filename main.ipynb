{
 "cells": [
  {
   "cell_type": "code",
   "id": "initial_id",
   "metadata": {
    "collapsed": true,
    "ExecuteTime": {
     "end_time": "2025-09-22T12:15:20.406838Z",
     "start_time": "2025-09-22T12:15:20.402019Z"
    }
   },
   "source": [
    "import numpy as np\n",
    "import pandas as pd\n",
    "from sklearn.model_selection import train_test_split\n",
    "from sklearn.linear_model import LinearRegression\n",
    "from sklearn.metrics import mean_squared_error, mean_absolute_error, r2_score"
   ],
   "outputs": [],
   "execution_count": 45
  },
  {
   "metadata": {
    "ExecuteTime": {
     "end_time": "2025-09-22T12:15:21.651570Z",
     "start_time": "2025-09-22T12:15:21.640587Z"
    }
   },
   "cell_type": "code",
   "source": [
    "train = pd.read_csv('dataset/train.csv')\n",
    "test = pd.read_csv('dataset/test.csv')\n",
    "\n",
    "# if 'id' in train.columns: train_df = train.drop(columns=['id'])\n",
    "\n",
    "print(train.head())"
   ],
   "id": "537af0421953a7a8",
   "outputs": [
    {
     "name": "stdout",
     "output_type": "stream",
     "text": [
      "    id        first    second     third       label\n",
      "0   16   621.022461 -2.341116  2.219315   45.386553\n",
      "1   18   591.331994  1.586732  1.459008   62.487210\n",
      "2   10   540.675613  0.491446  1.167377   39.327242\n",
      "3  111  1994.352060 -3.207705  1.264370  199.909617\n",
      "4  101  1986.083550 -5.137871  1.713998  196.248352\n"
     ]
    }
   ],
   "execution_count": 46
  },
  {
   "metadata": {
    "ExecuteTime": {
     "end_time": "2025-09-22T12:15:23.107991Z",
     "start_time": "2025-09-22T12:15:23.104471Z"
    }
   },
   "cell_type": "code",
   "source": "features = ['first', 'second', 'third']",
   "id": "1dc460da5a670706",
   "outputs": [],
   "execution_count": 47
  },
  {
   "metadata": {
    "tags": [
     "test model"
    ],
    "ExecuteTime": {
     "end_time": "2025-09-22T12:16:13.665093Z",
     "start_time": "2025-09-22T12:16:13.644347Z"
    }
   },
   "cell_type": "code",
   "source": [
    "# Test model\n",
    "\n",
    "X = train[features]\n",
    "y = train['label']\n",
    "\n",
    "X_train, X_test, y_train, y_test = train_test_split(X, y, test_size=0.2, random_state=42)\n",
    "\n",
    "model = LinearRegression()\n",
    "model.fit(X_train, y_train)\n",
    "\n",
    "y_pred = model.predict(X_test)\n",
    "\n",
    "mse = mean_squared_error(y_test, y_pred)\n",
    "rmse = np.sqrt(mse)\n",
    "mae = mean_absolute_error(y_test, y_pred)\n",
    "r2 = r2_score(y_test, y_pred)\n",
    "\n",
    "print(f\"MSE : {mse}\")\n",
    "print(f\"RMSE : {rmse}\")\n",
    "print(f\"MAE : {mae}\")\n",
    "print(f\"R2 : {r2}\")"
   ],
   "id": "d2600313436c3a76",
   "outputs": [
    {
     "name": "stdout",
     "output_type": "stream",
     "text": [
      "MSE : 1346.3432404691519\n",
      "RMSE : 36.69255020394674\n",
      "MAE : 29.251315290557336\n",
      "R2 : 0.648621220379622\n"
     ]
    }
   ],
   "execution_count": 49
  },
  {
   "metadata": {
    "tags": [
     "Run test"
    ],
    "ExecuteTime": {
     "end_time": "2025-09-22T12:16:24.871011Z",
     "start_time": "2025-09-22T12:16:24.859627Z"
    }
   },
   "cell_type": "code",
   "source": [
    "# Run test\n",
    "\n",
    "model = LinearRegression()\n",
    "model.fit(train[features], train['label'])\n",
    "\n",
    "preds = model.predict(test[features])\n",
    "\n",
    "submission = pd.DataFrame({\n",
    "    'id': test['id'],\n",
    "    'label': preds\n",
    "})\n",
    "\n",
    "print(submission.head())\n",
    "\n",
    "submission.to_csv('submission.csv', index=False)"
   ],
   "id": "27e32f4a9bd0283c",
   "outputs": [
    {
     "name": "stdout",
     "output_type": "stream",
     "text": [
      "    id       label\n",
      "0  108  189.170245\n",
      "1   67  133.865333\n",
      "2   31   78.655389\n",
      "3  119  204.099021\n",
      "4   42  127.976179\n"
     ]
    }
   ],
   "execution_count": 50
  }
 ],
 "metadata": {
  "kernelspec": {
   "display_name": "Python 3",
   "language": "python",
   "name": "python3"
  },
  "language_info": {
   "codemirror_mode": {
    "name": "ipython",
    "version": 2
   },
   "file_extension": ".py",
   "mimetype": "text/x-python",
   "name": "python",
   "nbconvert_exporter": "python",
   "pygments_lexer": "ipython2",
   "version": "2.7.6"
  }
 },
 "nbformat": 4,
 "nbformat_minor": 5
}
