{
 "cells": [
  {
   "cell_type": "code",
   "id": "initial_id",
   "metadata": {
    "collapsed": true,
    "ExecuteTime": {
     "end_time": "2025-09-22T11:18:56.014161Z",
     "start_time": "2025-09-22T11:18:55.136230Z"
    }
   },
   "source": [
    "import pandas as pd\n",
    "from sklearn.model_selection import train_test_split\n",
    "from sklearn.linear_model import LinearRegression\n",
    "from sklearn.metrics import mean_squared_error, mean_absolute_error, r2_score"
   ],
   "outputs": [],
   "execution_count": 1
  },
  {
   "metadata": {
    "ExecuteTime": {
     "end_time": "2025-09-22T11:31:43.766367Z",
     "start_time": "2025-09-22T11:31:43.749508Z"
    }
   },
   "cell_type": "code",
   "source": [
    "train = pd.read_csv('dataset/train.csv')\n",
    "test = pd.read_csv('dataset/test.csv')\n",
    "\n",
    "# if 'id' in train.columns: train_df = train.drop(columns=['id'])\n",
    "\n",
    "print(train.head())"
   ],
   "id": "537af0421953a7a8",
   "outputs": [
    {
     "name": "stdout",
     "output_type": "stream",
     "text": [
      "    id        first    second     third       label\n",
      "0   16   621.022461 -2.341116  2.219315   45.386553\n",
      "1   18   591.331994  1.586732  1.459008   62.487210\n",
      "2   10   540.675613  0.491446  1.167377   39.327242\n",
      "3  111  1994.352060 -3.207705  1.264370  199.909617\n",
      "4  101  1986.083550 -5.137871  1.713998  196.248352\n"
     ]
    }
   ],
   "execution_count": 35
  },
  {
   "metadata": {
    "ExecuteTime": {
     "end_time": "2025-09-22T11:32:29.318705Z",
     "start_time": "2025-09-22T11:32:29.307054Z"
    }
   },
   "cell_type": "code",
   "source": [
    "features = ['first', 'second', 'third']\n",
    "\n",
    "model = LinearRegression()\n",
    "model.fit(train[features], train['label'])\n",
    "\n",
    "preds = model.predict(test[features])\n",
    "\n",
    "submission = pd.DataFrame({\n",
    "    'id': test['id'],\n",
    "    'label': preds\n",
    "})\n",
    "\n",
    "print(submission.head())\n",
    "\n",
    "submission.to_csv('submission.csv', index=False)"
   ],
   "id": "aaa0dd732e559141",
   "outputs": [
    {
     "name": "stdout",
     "output_type": "stream",
     "text": [
      "    id       label\n",
      "0  108  189.170245\n",
      "1   67  133.865333\n",
      "2   31   78.655389\n",
      "3  119  204.099021\n",
      "4   42  127.976179\n"
     ]
    }
   ],
   "execution_count": 38
  }
 ],
 "metadata": {
  "kernelspec": {
   "display_name": "Python 3",
   "language": "python",
   "name": "python3"
  },
  "language_info": {
   "codemirror_mode": {
    "name": "ipython",
    "version": 2
   },
   "file_extension": ".py",
   "mimetype": "text/x-python",
   "name": "python",
   "nbconvert_exporter": "python",
   "pygments_lexer": "ipython2",
   "version": "2.7.6"
  }
 },
 "nbformat": 4,
 "nbformat_minor": 5
}
